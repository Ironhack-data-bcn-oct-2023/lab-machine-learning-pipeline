{
 "cells": [
  {
   "cell_type": "code",
   "execution_count": 415,
   "metadata": {},
   "outputs": [],
   "source": [
    "import pandas as pd\n",
    "import seaborn as sns\n",
    "import numpy as np\n",
    "from sklearn.model_selection import train_test_split\n",
    "from sklearn.metrics import mean_squared_error\n",
    "import numpy as np\n",
    "import seaborn as sns\n",
    "import matplotlib.pyplot as plt\n",
    "from sklearn.preprocessing import OneHotEncoder\n",
    "import sklearn.preprocessing as preprocessing\n",
    "from sklearn.preprocessing import LabelEncoder\n",
    "from sklearn.preprocessing import StandardScaler\n",
    "from sklearn.preprocessing import MinMaxScaler\n",
    "from sklearn.linear_model import ElasticNet\n",
    "from sklearn.linear_model import Lasso\n",
    "from sklearn.linear_model import Ridge\n",
    "from sklearn.linear_model import LinearRegression\n",
    "from sklearn.svm import SVR\n",
    "from sklearn.ensemble import GradientBoostingRegressor\n",
    "from sklearn.ensemble import RandomForestRegressor\n",
    "from sklearn.tree import DecisionTreeRegressor\n",
    "from catboost import CatBoostRegressor\n",
    "from lightgbm import LGBMRegressor\n",
    "from xgboost import XGBRegressor\n",
    "from sklearn.neighbors import KNeighborsRegressor\n",
    "import os\n",
    "from sys import platform"
   ]
  },
  {
   "cell_type": "markdown",
   "metadata": {},
   "source": [
    " Table"
   ]
  },
  {
   "cell_type": "markdown",
   "metadata": {},
   "source": [
    "# Instructions"
   ]
  },
  {
   "cell_type": "markdown",
   "metadata": {},
   "source": [
    "1. Load the `train.csv` file\n",
    "2. Explore the data, understand it\n",
    "3. Process it for future training\n",
    "4. Do train, test, split for your `train.csv` file\n",
    "5. `fit/train` a model from your cleaned_train_df\n",
    "-----\n",
    "5. Load the `test.csv` file\n",
    "6. Apply the same processing you did to `train.csv` into `test.csv`\n",
    "7. `predict` the price for that file\n",
    "8. Only keep the columns you need: id and price\n",
    "9. Export\n",
    "-----\n",
    "10. Repeat! 🚀🔥"
   ]
  },
  {
   "cell_type": "markdown",
   "metadata": {},
   "source": [
    "# Import the csv files"
   ]
  },
  {
   "cell_type": "code",
   "execution_count": 416,
   "metadata": {},
   "outputs": [],
   "source": [
    "df_train = pd.read_csv(\"train.csv\")\n",
    "df_test = pd.read_csv(\"test.csv\")"
   ]
  },
  {
   "cell_type": "code",
   "execution_count": 417,
   "metadata": {},
   "outputs": [
    {
     "data": {
      "text/html": [
       "<div>\n",
       "<style scoped>\n",
       "    .dataframe tbody tr th:only-of-type {\n",
       "        vertical-align: middle;\n",
       "    }\n",
       "\n",
       "    .dataframe tbody tr th {\n",
       "        vertical-align: top;\n",
       "    }\n",
       "\n",
       "    .dataframe thead th {\n",
       "        text-align: right;\n",
       "    }\n",
       "</style>\n",
       "<table border=\"1\" class=\"dataframe\">\n",
       "  <thead>\n",
       "    <tr style=\"text-align: right;\">\n",
       "      <th></th>\n",
       "      <th>id</th>\n",
       "      <th>carat</th>\n",
       "      <th>cut</th>\n",
       "      <th>color</th>\n",
       "      <th>clarity</th>\n",
       "      <th>depth</th>\n",
       "      <th>table</th>\n",
       "      <th>x</th>\n",
       "      <th>y</th>\n",
       "      <th>z</th>\n",
       "      <th>price</th>\n",
       "    </tr>\n",
       "  </thead>\n",
       "  <tbody>\n",
       "    <tr>\n",
       "      <th>27921</th>\n",
       "      <td>27921</td>\n",
       "      <td>0.32</td>\n",
       "      <td>Ideal</td>\n",
       "      <td>G</td>\n",
       "      <td>VS1</td>\n",
       "      <td>61.8</td>\n",
       "      <td>55.0</td>\n",
       "      <td>4.42</td>\n",
       "      <td>4.45</td>\n",
       "      <td>2.74</td>\n",
       "      <td>6.326</td>\n",
       "    </tr>\n",
       "  </tbody>\n",
       "</table>\n",
       "</div>"
      ],
      "text/plain": [
       "          id  carat    cut color clarity  depth  table     x     y     z  \\\n",
       "27921  27921   0.32  Ideal     G     VS1   61.8   55.0  4.42  4.45  2.74   \n",
       "\n",
       "       price  \n",
       "27921  6.326  "
      ]
     },
     "execution_count": 417,
     "metadata": {},
     "output_type": "execute_result"
    }
   ],
   "source": [
    "df_train.sample()"
   ]
  },
  {
   "cell_type": "code",
   "execution_count": 418,
   "metadata": {},
   "outputs": [
    {
     "data": {
      "text/html": [
       "<div>\n",
       "<style scoped>\n",
       "    .dataframe tbody tr th:only-of-type {\n",
       "        vertical-align: middle;\n",
       "    }\n",
       "\n",
       "    .dataframe tbody tr th {\n",
       "        vertical-align: top;\n",
       "    }\n",
       "\n",
       "    .dataframe thead th {\n",
       "        text-align: right;\n",
       "    }\n",
       "</style>\n",
       "<table border=\"1\" class=\"dataframe\">\n",
       "  <thead>\n",
       "    <tr style=\"text-align: right;\">\n",
       "      <th></th>\n",
       "      <th>id</th>\n",
       "      <th>carat</th>\n",
       "      <th>cut</th>\n",
       "      <th>color</th>\n",
       "      <th>clarity</th>\n",
       "      <th>depth</th>\n",
       "      <th>table</th>\n",
       "      <th>x</th>\n",
       "      <th>y</th>\n",
       "      <th>z</th>\n",
       "    </tr>\n",
       "  </thead>\n",
       "  <tbody>\n",
       "    <tr>\n",
       "      <th>2800</th>\n",
       "      <td>2800</td>\n",
       "      <td>1.26</td>\n",
       "      <td>Premium</td>\n",
       "      <td>F</td>\n",
       "      <td>VS1</td>\n",
       "      <td>62.7</td>\n",
       "      <td>58.0</td>\n",
       "      <td>6.86</td>\n",
       "      <td>6.93</td>\n",
       "      <td>4.32</td>\n",
       "    </tr>\n",
       "  </tbody>\n",
       "</table>\n",
       "</div>"
      ],
      "text/plain": [
       "        id  carat      cut color clarity  depth  table     x     y     z\n",
       "2800  2800   1.26  Premium     F     VS1   62.7   58.0  6.86  6.93  4.32"
      ]
     },
     "execution_count": 418,
     "metadata": {},
     "output_type": "execute_result"
    }
   ],
   "source": [
    "df_test.sample()"
   ]
  },
  {
   "cell_type": "code",
   "execution_count": 419,
   "metadata": {},
   "outputs": [
    {
     "data": {
      "text/plain": [
       "(40455, 11)"
      ]
     },
     "execution_count": 419,
     "metadata": {},
     "output_type": "execute_result"
    }
   ],
   "source": [
    "df_train.shape"
   ]
  },
  {
   "cell_type": "code",
   "execution_count": 420,
   "metadata": {},
   "outputs": [
    {
     "data": {
      "text/plain": [
       "(13485, 10)"
      ]
     },
     "execution_count": 420,
     "metadata": {},
     "output_type": "execute_result"
    }
   ],
   "source": [
    "df_test.shape"
   ]
  },
  {
   "cell_type": "code",
   "execution_count": 421,
   "metadata": {},
   "outputs": [],
   "source": [
    "#SUBMISSION -> test"
   ]
  },
  {
   "cell_type": "code",
   "execution_count": 422,
   "metadata": {},
   "outputs": [
    {
     "name": "stdout",
     "output_type": "stream",
     "text": [
      "40455\n"
     ]
    },
    {
     "data": {
      "text/html": [
       "<div>\n",
       "<style scoped>\n",
       "    .dataframe tbody tr th:only-of-type {\n",
       "        vertical-align: middle;\n",
       "    }\n",
       "\n",
       "    .dataframe tbody tr th {\n",
       "        vertical-align: top;\n",
       "    }\n",
       "\n",
       "    .dataframe thead th {\n",
       "        text-align: right;\n",
       "    }\n",
       "</style>\n",
       "<table border=\"1\" class=\"dataframe\">\n",
       "  <thead>\n",
       "    <tr style=\"text-align: right;\">\n",
       "      <th></th>\n",
       "      <th>id</th>\n",
       "      <th>carat</th>\n",
       "      <th>cut</th>\n",
       "      <th>color</th>\n",
       "      <th>clarity</th>\n",
       "      <th>depth</th>\n",
       "      <th>table</th>\n",
       "      <th>x</th>\n",
       "      <th>y</th>\n",
       "      <th>z</th>\n",
       "      <th>price</th>\n",
       "    </tr>\n",
       "  </thead>\n",
       "  <tbody>\n",
       "    <tr>\n",
       "      <th>8917</th>\n",
       "      <td>8917</td>\n",
       "      <td>0.7</td>\n",
       "      <td>Ideal</td>\n",
       "      <td>I</td>\n",
       "      <td>VVS2</td>\n",
       "      <td>61.8</td>\n",
       "      <td>56.0</td>\n",
       "      <td>5.69</td>\n",
       "      <td>5.75</td>\n",
       "      <td>3.54</td>\n",
       "      <td>7.836</td>\n",
       "    </tr>\n",
       "  </tbody>\n",
       "</table>\n",
       "</div>"
      ],
      "text/plain": [
       "        id  carat    cut color clarity  depth  table     x     y     z  price\n",
       "8917  8917    0.7  Ideal     I    VVS2   61.8   56.0  5.69  5.75  3.54  7.836"
      ]
     },
     "execution_count": 422,
     "metadata": {},
     "output_type": "execute_result"
    }
   ],
   "source": [
    "print(df_train.shape[0])\n",
    "df_train.sample()"
   ]
  },
  {
   "cell_type": "markdown",
   "metadata": {},
   "source": [
    "# Cleaning, processing, feature selection, etc"
   ]
  },
  {
   "cell_type": "code",
   "execution_count": 423,
   "metadata": {},
   "outputs": [],
   "source": [
    "cut_dict = {'Good': 1,\n",
    "            'Very Good': 2, \n",
    "            'Premium': 3, \n",
    "            'Ideal': 4, \n",
    "            'Fair': 5}\n",
    "    \n",
    "df_train[\"cut\"] = df_train.cut.replace(cut_dict)\n",
    "df_test[\"cut\"] = df_test.cut.replace(cut_dict)\n",
    "\n",
    "clarity_dict = {\n",
    "            'I1': 1,\n",
    "            'SI2': 2,\n",
    "            'SI1': 3, \n",
    "            'VS2': 4, \n",
    "            'VS1': 5, \n",
    "            'VVS2': 6,\n",
    "            'VVS1': 7,\n",
    "            'IF': 8\n",
    "            }\n",
    "    \n",
    "df_train[\"clarity\"] = df_train.cut.replace(clarity_dict)\n",
    "df_test[\"clarity\"] = df_test.cut.replace(clarity_dict)\n",
    "df_test.drop(columns=\"carat\", inplace=True)\n",
    "df_train.drop(columns=\"carat\", inplace=True)\n",
    "df_test.drop(columns=\"y\", inplace=True)\n",
    "df_train.drop(columns=\"y\", inplace=True)\n",
    "df_test.drop(columns=\"x\", inplace=True)\n",
    "df_train.drop(columns=\"x\", inplace=True)\n",
    "df_test.drop(columns=\"cut\", inplace=True)\n",
    "df_train.drop(columns=\"cut\", inplace=True)"
   ]
  },
  {
   "cell_type": "code",
   "execution_count": 424,
   "metadata": {},
   "outputs": [],
   "source": [
    "oneonehotencoder = preprocessing.OneHotEncoder()\n",
    "df_train[[\"D\",\"H\",\"E\",\"G\",\"F\",\"I\",\"J\"]] = oneonehotencoder.fit_transform(df_train[[\"color\"]].values.reshape(-1, 1)).toarray()\n",
    "df_test[[\"D\",\"H\",\"E\",\"G\",\"F\",\"I\",\"J\"]] = oneonehotencoder.fit_transform(df_test[[\"color\"]].values.reshape(-1, 1)).toarray()\n",
    "df_train.drop(columns = [\"color\"], inplace=True)\n",
    "df_test.drop(columns = [\"color\"], inplace=True)"
   ]
  },
  {
   "cell_type": "code",
   "execution_count": 425,
   "metadata": {},
   "outputs": [
    {
     "data": {
      "image/png": "[encoded data removed]",
      "text/plain": [
       "<Figure size 640x480 with 1 Axes>"
      ]
     },
     "metadata": {},
     "output_type": "display_data"
    }
   ],
   "source": [
    "sns.histplot(x=df_train.table);"
   ]
  },
  {
   "cell_type": "code",
   "execution_count": 426,
   "metadata": {},
   "outputs": [
    {
     "data": {
      "image/png": "[encoded data removed]",
      "text/plain": [
       "<Figure size 640x480 with 1 Axes>"
      ]
     },
     "metadata": {},
     "output_type": "display_data"
    }
   ],
   "source": [
    "min_max_scaler = MinMaxScaler()\n",
    "df_train[\"table\"] = min_max_scaler.fit_transform(df_train[\"table\"].values.reshape(-1, 1))\n",
    "df_test[\"table\"] = min_max_scaler.fit_transform(df_test[\"table\"].values.reshape(-1, 1))\n",
    "sns.histplot(x=df_train.table);"
   ]
  },
  {
   "cell_type": "code",
   "execution_count": 427,
   "metadata": {},
   "outputs": [
    {
     "data": {
      "image/png": "[encoded data removed]",
      "text/plain": [
       "<Figure size 640x480 with 1 Axes>"
      ]
     },
     "metadata": {},
     "output_type": "display_data"
    }
   ],
   "source": [
    "sns.histplot(x=df_train.depth);"
   ]
  },
  {
   "cell_type": "code",
   "execution_count": 428,
   "metadata": {},
   "outputs": [
    {
     "data": {
      "image/png": "[encoded data removed]",
      "text/plain": [
       "<Figure size 640x480 with 1 Axes>"
      ]
     },
     "metadata": {},
     "output_type": "display_data"
    }
   ],
   "source": [
    "df_train[\"depth\"] = min_max_scaler.fit_transform(df_train[\"depth\"].values.reshape(-1, 1))\n",
    "df_test[\"depth\"] = min_max_scaler.fit_transform(df_test[\"depth\"].values.reshape(-1, 1))\n",
    "sns.histplot(x=df_train.depth);"
   ]
  },
  {
   "cell_type": "code",
   "execution_count": 429,
   "metadata": {},
   "outputs": [
    {
     "name": "stdout",
     "output_type": "stream",
     "text": [
      "40455\n"
     ]
    },
    {
     "data": {
      "text/html": [
       "<div>\n",
       "<style scoped>\n",
       "    .dataframe tbody tr th:only-of-type {\n",
       "        vertical-align: middle;\n",
       "    }\n",
       "\n",
       "    .dataframe tbody tr th {\n",
       "        vertical-align: top;\n",
       "    }\n",
       "\n",
       "    .dataframe thead th {\n",
       "        text-align: right;\n",
       "    }\n",
       "</style>\n",
       "<table border=\"1\" class=\"dataframe\">\n",
       "  <thead>\n",
       "    <tr style=\"text-align: right;\">\n",
       "      <th></th>\n",
       "      <th>id</th>\n",
       "      <th>clarity</th>\n",
       "      <th>depth</th>\n",
       "      <th>table</th>\n",
       "      <th>z</th>\n",
       "      <th>price</th>\n",
       "      <th>D</th>\n",
       "      <th>H</th>\n",
       "      <th>E</th>\n",
       "      <th>G</th>\n",
       "      <th>F</th>\n",
       "      <th>I</th>\n",
       "      <th>J</th>\n",
       "    </tr>\n",
       "  </thead>\n",
       "  <tbody>\n",
       "    <tr>\n",
       "      <th>0</th>\n",
       "      <td>0</td>\n",
       "      <td>1</td>\n",
       "      <td>0.561111</td>\n",
       "      <td>0.288462</td>\n",
       "      <td>4.03</td>\n",
       "      <td>8.928</td>\n",
       "      <td>1.0</td>\n",
       "      <td>0.0</td>\n",
       "      <td>0.0</td>\n",
       "      <td>0.0</td>\n",
       "      <td>0.0</td>\n",
       "      <td>0.0</td>\n",
       "      <td>0.0</td>\n",
       "    </tr>\n",
       "    <tr>\n",
       "      <th>1</th>\n",
       "      <td>1</td>\n",
       "      <td>2</td>\n",
       "      <td>0.500000</td>\n",
       "      <td>0.269231</td>\n",
       "      <td>2.77</td>\n",
       "      <td>6.477</td>\n",
       "      <td>0.0</td>\n",
       "      <td>0.0</td>\n",
       "      <td>0.0</td>\n",
       "      <td>0.0</td>\n",
       "      <td>1.0</td>\n",
       "      <td>0.0</td>\n",
       "      <td>0.0</td>\n",
       "    </tr>\n",
       "    <tr>\n",
       "      <th>2</th>\n",
       "      <td>2</td>\n",
       "      <td>3</td>\n",
       "      <td>0.486111</td>\n",
       "      <td>0.288462</td>\n",
       "      <td>2.67</td>\n",
       "      <td>6.810</td>\n",
       "      <td>0.0</td>\n",
       "      <td>0.0</td>\n",
       "      <td>0.0</td>\n",
       "      <td>0.0</td>\n",
       "      <td>1.0</td>\n",
       "      <td>0.0</td>\n",
       "      <td>0.0</td>\n",
       "    </tr>\n",
       "    <tr>\n",
       "      <th>3</th>\n",
       "      <td>3</td>\n",
       "      <td>4</td>\n",
       "      <td>0.511111</td>\n",
       "      <td>0.250000</td>\n",
       "      <td>2.87</td>\n",
       "      <td>6.824</td>\n",
       "      <td>0.0</td>\n",
       "      <td>1.0</td>\n",
       "      <td>0.0</td>\n",
       "      <td>0.0</td>\n",
       "      <td>0.0</td>\n",
       "      <td>0.0</td>\n",
       "      <td>0.0</td>\n",
       "    </tr>\n",
       "    <tr>\n",
       "      <th>4</th>\n",
       "      <td>4</td>\n",
       "      <td>4</td>\n",
       "      <td>0.522222</td>\n",
       "      <td>0.250000</td>\n",
       "      <td>4.69</td>\n",
       "      <td>9.776</td>\n",
       "      <td>0.0</td>\n",
       "      <td>0.0</td>\n",
       "      <td>0.0</td>\n",
       "      <td>1.0</td>\n",
       "      <td>0.0</td>\n",
       "      <td>0.0</td>\n",
       "      <td>0.0</td>\n",
       "    </tr>\n",
       "    <tr>\n",
       "      <th>...</th>\n",
       "      <td>...</td>\n",
       "      <td>...</td>\n",
       "      <td>...</td>\n",
       "      <td>...</td>\n",
       "      <td>...</td>\n",
       "      <td>...</td>\n",
       "      <td>...</td>\n",
       "      <td>...</td>\n",
       "      <td>...</td>\n",
       "      <td>...</td>\n",
       "      <td>...</td>\n",
       "      <td>...</td>\n",
       "      <td>...</td>\n",
       "    </tr>\n",
       "    <tr>\n",
       "      <th>40450</th>\n",
       "      <td>40450</td>\n",
       "      <td>4</td>\n",
       "      <td>0.533333</td>\n",
       "      <td>0.230769</td>\n",
       "      <td>4.23</td>\n",
       "      <td>9.149</td>\n",
       "      <td>0.0</td>\n",
       "      <td>0.0</td>\n",
       "      <td>0.0</td>\n",
       "      <td>1.0</td>\n",
       "      <td>0.0</td>\n",
       "      <td>0.0</td>\n",
       "      <td>0.0</td>\n",
       "    </tr>\n",
       "    <tr>\n",
       "      <th>40451</th>\n",
       "      <td>40451</td>\n",
       "      <td>1</td>\n",
       "      <td>0.588889</td>\n",
       "      <td>0.250000</td>\n",
       "      <td>4.62</td>\n",
       "      <td>9.077</td>\n",
       "      <td>0.0</td>\n",
       "      <td>0.0</td>\n",
       "      <td>0.0</td>\n",
       "      <td>0.0</td>\n",
       "      <td>1.0</td>\n",
       "      <td>0.0</td>\n",
       "      <td>0.0</td>\n",
       "    </tr>\n",
       "    <tr>\n",
       "      <th>40452</th>\n",
       "      <td>40452</td>\n",
       "      <td>4</td>\n",
       "      <td>0.525000</td>\n",
       "      <td>0.230769</td>\n",
       "      <td>4.06</td>\n",
       "      <td>8.892</td>\n",
       "      <td>0.0</td>\n",
       "      <td>1.0</td>\n",
       "      <td>0.0</td>\n",
       "      <td>0.0</td>\n",
       "      <td>0.0</td>\n",
       "      <td>0.0</td>\n",
       "      <td>0.0</td>\n",
       "    </tr>\n",
       "    <tr>\n",
       "      <th>40453</th>\n",
       "      <td>40453</td>\n",
       "      <td>3</td>\n",
       "      <td>0.475000</td>\n",
       "      <td>0.288462</td>\n",
       "      <td>2.64</td>\n",
       "      <td>6.385</td>\n",
       "      <td>1.0</td>\n",
       "      <td>0.0</td>\n",
       "      <td>0.0</td>\n",
       "      <td>0.0</td>\n",
       "      <td>0.0</td>\n",
       "      <td>0.0</td>\n",
       "      <td>0.0</td>\n",
       "    </tr>\n",
       "    <tr>\n",
       "      <th>40454</th>\n",
       "      <td>40454</td>\n",
       "      <td>2</td>\n",
       "      <td>0.494444</td>\n",
       "      <td>0.288462</td>\n",
       "      <td>4.88</td>\n",
       "      <td>9.455</td>\n",
       "      <td>0.0</td>\n",
       "      <td>0.0</td>\n",
       "      <td>0.0</td>\n",
       "      <td>0.0</td>\n",
       "      <td>0.0</td>\n",
       "      <td>0.0</td>\n",
       "      <td>1.0</td>\n",
       "    </tr>\n",
       "  </tbody>\n",
       "</table>\n",
       "<p>40455 rows × 13 columns</p>\n",
       "</div>"
      ],
      "text/plain": [
       "          id  clarity     depth     table     z  price    D    H    E    G  \\\n",
       "0          0        1  0.561111  0.288462  4.03  8.928  1.0  0.0  0.0  0.0   \n",
       "1          1        2  0.500000  0.269231  2.77  6.477  0.0  0.0  0.0  0.0   \n",
       "2          2        3  0.486111  0.288462  2.67  6.810  0.0  0.0  0.0  0.0   \n",
       "3          3        4  0.511111  0.250000  2.87  6.824  0.0  1.0  0.0  0.0   \n",
       "4          4        4  0.522222  0.250000  4.69  9.776  0.0  0.0  0.0  1.0   \n",
       "...      ...      ...       ...       ...   ...    ...  ...  ...  ...  ...   \n",
       "40450  40450        4  0.533333  0.230769  4.23  9.149  0.0  0.0  0.0  1.0   \n",
       "40451  40451        1  0.588889  0.250000  4.62  9.077  0.0  0.0  0.0  0.0   \n",
       "40452  40452        4  0.525000  0.230769  4.06  8.892  0.0  1.0  0.0  0.0   \n",
       "40453  40453        3  0.475000  0.288462  2.64  6.385  1.0  0.0  0.0  0.0   \n",
       "40454  40454        2  0.494444  0.288462  4.88  9.455  0.0  0.0  0.0  0.0   \n",
       "\n",
       "         F    I    J  \n",
       "0      0.0  0.0  0.0  \n",
       "1      1.0  0.0  0.0  \n",
       "2      1.0  0.0  0.0  \n",
       "3      0.0  0.0  0.0  \n",
       "4      0.0  0.0  0.0  \n",
       "...    ...  ...  ...  \n",
       "40450  0.0  0.0  0.0  \n",
       "40451  1.0  0.0  0.0  \n",
       "40452  0.0  0.0  0.0  \n",
       "40453  0.0  0.0  0.0  \n",
       "40454  0.0  0.0  1.0  \n",
       "\n",
       "[40455 rows x 13 columns]"
      ]
     },
     "execution_count": 429,
     "metadata": {},
     "output_type": "execute_result"
    }
   ],
   "source": [
    "# Processing is necessary, otherwise we won't be able to fit a model\n",
    "# For the sake of the example, we'll just drop categorical columns\n",
    "\n",
    "df_train_cleaned = df_train.select_dtypes(exclude='object')\n",
    "print(df_train_cleaned.shape[0])\n",
    "df_train_cleaned"
   ]
  },
  {
   "cell_type": "code",
   "execution_count": 430,
   "metadata": {},
   "outputs": [
    {
     "data": {
      "image/png": "[encoded data removed]",
      "text/plain": [
       "<Figure size 1400x600 with 2 Axes>"
      ]
     },
     "metadata": {},
     "output_type": "display_data"
    }
   ],
   "source": [
    "corrt = df_test.corr()\n",
    "\n",
    "def heatmap_titanic ():\n",
    "    plt.figure(figsize=(14, 6))\n",
    "    mask = np.triu(np.ones_like(df_test.corr()), k=0)\n",
    "    plt.title(\"Correlation Website variables\")\n",
    "    sns.heatmap(df_test.corr(), annot=True, cmap='crest', linewidths=0.5, mask=mask)\n",
    "    \n",
    "heatmap_titanic()"
   ]
  },
  {
   "cell_type": "markdown",
   "metadata": {},
   "source": [
    "# Train on train.csv"
   ]
  },
  {
   "cell_type": "markdown",
   "metadata": {},
   "source": [
    "![](https://builtin.com/sites/www.builtin.com/files/styles/ckeditor_optimize/public/inline-images/4_train-test-split.jpg)"
   ]
  },
  {
   "cell_type": "markdown",
   "metadata": {},
   "source": [
    "## Train, test split"
   ]
  },
  {
   "cell_type": "code",
   "execution_count": 431,
   "metadata": {},
   "outputs": [],
   "source": [
    "X = df_train.drop(columns=['price'])\n",
    "y = df_train_cleaned['price']\n",
    "\n",
    "X_train, X_test, y_train, y_test = train_test_split(X, y, test_size=0.35)"
   ]
  },
  {
   "cell_type": "markdown",
   "metadata": {},
   "source": [
    "## Fit"
   ]
  },
  {
   "cell_type": "code",
   "execution_count": 432,
   "metadata": {},
   "outputs": [],
   "source": [
    "# model_Elastic = ElasticNet()\n",
    "# model_Lasso = Lasso()\n",
    "# model_Ridge = Ridge()\n",
    "# model_Linear = LinearRegression()\n",
    "# model_SVR = SVR()\n",
    "# model_Gradient = GradientBoostingRegressor()\n",
    "# model_Random = RandomForestRegressor()\n",
    "# model_Decision = DecisionTreeRegressor()\n",
    "# model_Cat = CatBoostRegressor()\n",
    "# model_LGBMRegressor = LGBMRegressor()\n",
    "# model_XGBRegressor = XGBRegressor()\n",
    "# model_KNeighbors = KNeighborsRegressor()\n",
    "# models = [\n",
    "#   model_Elastic,\n",
    "#   model_Lasso,\n",
    "#   model_Ridge,\n",
    "#   model_Linear,\n",
    "#   model_SVR,\n",
    "#   model_Gradient,\n",
    "#   model_Random,\n",
    "#   model_Decision,\n",
    "#   model_Cat,\n",
    "#   model_LGBMRegressor,\n",
    "#   model_XGBRegressor,\n",
    "#   model_KNeighbors\n",
    "# ]\n",
    "\n",
    "\n",
    "# for model in models:\n",
    "#     regressor = model\n",
    "#     regressor.fit(X_train, y_train)\n",
    "#     y_pred = regressor.predict(X_test)\n",
    "#     error = np.sqrt(mean_squared_error(y_pred, y_test))\n",
    "#     print(f\"The {type(model).__name__} has an error of: {error}\")"
   ]
  },
  {
   "cell_type": "code",
   "execution_count": 433,
   "metadata": {},
   "outputs": [
    {
     "name": "stdout",
     "output_type": "stream",
     "text": [
      "The GradientBoostingRegressor has an error of: 0.23057641651701705\n"
     ]
    }
   ],
   "source": [
    "regressor = GradientBoostingRegressor(n_estimators=10000)\n",
    "regressor.fit(X_train, y_train)\n",
    "y_pred = regressor.predict(X_test)\n",
    "error = np.sqrt(mean_squared_error(y_pred, y_test))\n",
    "print(f\"The {type(regressor).__name__} has an error of: {error}\")"
   ]
  },
  {
   "cell_type": "markdown",
   "metadata": {},
   "source": [
    "-----\n",
    "-----\n",
    "-----\n",
    "-----\n"
   ]
  },
  {
   "cell_type": "markdown",
   "metadata": {},
   "source": [
    "# Applying same cleaning & processing to my `test.csv`"
   ]
  },
  {
   "cell_type": "code",
   "execution_count": 434,
   "metadata": {},
   "outputs": [
    {
     "name": "stdout",
     "output_type": "stream",
     "text": [
      "13485\n"
     ]
    },
    {
     "data": {
      "text/html": [
       "<div>\n",
       "<style scoped>\n",
       "    .dataframe tbody tr th:only-of-type {\n",
       "        vertical-align: middle;\n",
       "    }\n",
       "\n",
       "    .dataframe tbody tr th {\n",
       "        vertical-align: top;\n",
       "    }\n",
       "\n",
       "    .dataframe thead th {\n",
       "        text-align: right;\n",
       "    }\n",
       "</style>\n",
       "<table border=\"1\" class=\"dataframe\">\n",
       "  <thead>\n",
       "    <tr style=\"text-align: right;\">\n",
       "      <th></th>\n",
       "      <th>id</th>\n",
       "      <th>clarity</th>\n",
       "      <th>depth</th>\n",
       "      <th>table</th>\n",
       "      <th>z</th>\n",
       "      <th>D</th>\n",
       "      <th>H</th>\n",
       "      <th>E</th>\n",
       "      <th>G</th>\n",
       "      <th>F</th>\n",
       "      <th>I</th>\n",
       "      <th>J</th>\n",
       "    </tr>\n",
       "  </thead>\n",
       "  <tbody>\n",
       "    <tr>\n",
       "      <th>4555</th>\n",
       "      <td>4555</td>\n",
       "      <td>2</td>\n",
       "      <td>0.527778</td>\n",
       "      <td>0.413793</td>\n",
       "      <td>4.05</td>\n",
       "      <td>0.0</td>\n",
       "      <td>0.0</td>\n",
       "      <td>1.0</td>\n",
       "      <td>0.0</td>\n",
       "      <td>0.0</td>\n",
       "      <td>0.0</td>\n",
       "      <td>0.0</td>\n",
       "    </tr>\n",
       "  </tbody>\n",
       "</table>\n",
       "</div>"
      ],
      "text/plain": [
       "        id  clarity     depth     table     z    D    H    E    G    F    I  \\\n",
       "4555  4555        2  0.527778  0.413793  4.05  0.0  0.0  1.0  0.0  0.0  0.0   \n",
       "\n",
       "        J  \n",
       "4555  0.0  "
      ]
     },
     "execution_count": 434,
     "metadata": {},
     "output_type": "execute_result"
    }
   ],
   "source": [
    "df_test_cleaned = df_test.select_dtypes(exclude='object')\n",
    "print(df_test_cleaned.shape[0])\n",
    "df_test_cleaned.sample()"
   ]
  },
  {
   "cell_type": "markdown",
   "metadata": {},
   "source": [
    "# Predict on the `test.csv`"
   ]
  },
  {
   "cell_type": "code",
   "execution_count": 435,
   "metadata": {},
   "outputs": [
    {
     "data": {
      "text/plain": [
       "array([8.43984657, 7.5966779 , 7.04234987, ..., 9.2407296 , 6.95932987,\n",
       "       9.72964275])"
      ]
     },
     "execution_count": 435,
     "metadata": {},
     "output_type": "execute_result"
    }
   ],
   "source": [
    "y_pred = regressor.predict(df_test_cleaned)\n",
    "y_pred\n",
    "# Just for feedback\n",
    "# if platform == \"darwin\":\n",
    "#    os.system(\"say -v ayam don predictin\")"
   ]
  },
  {
   "cell_type": "markdown",
   "metadata": {},
   "source": [
    "# DF with two columns"
   ]
  },
  {
   "cell_type": "code",
   "execution_count": 436,
   "metadata": {},
   "outputs": [
    {
     "name": "stdout",
     "output_type": "stream",
     "text": [
      "13485\n"
     ]
    },
    {
     "data": {
      "text/html": [
       "<div>\n",
       "<style scoped>\n",
       "    .dataframe tbody tr th:only-of-type {\n",
       "        vertical-align: middle;\n",
       "    }\n",
       "\n",
       "    .dataframe tbody tr th {\n",
       "        vertical-align: top;\n",
       "    }\n",
       "\n",
       "    .dataframe thead th {\n",
       "        text-align: right;\n",
       "    }\n",
       "</style>\n",
       "<table border=\"1\" class=\"dataframe\">\n",
       "  <thead>\n",
       "    <tr style=\"text-align: right;\">\n",
       "      <th></th>\n",
       "      <th>id</th>\n",
       "      <th>clarity</th>\n",
       "      <th>depth</th>\n",
       "      <th>table</th>\n",
       "      <th>z</th>\n",
       "      <th>D</th>\n",
       "      <th>H</th>\n",
       "      <th>E</th>\n",
       "      <th>G</th>\n",
       "      <th>F</th>\n",
       "      <th>I</th>\n",
       "      <th>J</th>\n",
       "    </tr>\n",
       "  </thead>\n",
       "  <tbody>\n",
       "    <tr>\n",
       "      <th>6956</th>\n",
       "      <td>6956</td>\n",
       "      <td>4</td>\n",
       "      <td>0.502778</td>\n",
       "      <td>0.344828</td>\n",
       "      <td>2.83</td>\n",
       "      <td>0.0</td>\n",
       "      <td>0.0</td>\n",
       "      <td>0.0</td>\n",
       "      <td>1.0</td>\n",
       "      <td>0.0</td>\n",
       "      <td>0.0</td>\n",
       "      <td>0.0</td>\n",
       "    </tr>\n",
       "  </tbody>\n",
       "</table>\n",
       "</div>"
      ],
      "text/plain": [
       "        id  clarity     depth     table     z    D    H    E    G    F    I  \\\n",
       "6956  6956        4  0.502778  0.344828  2.83  0.0  0.0  0.0  1.0  0.0  0.0   \n",
       "\n",
       "        J  \n",
       "6956  0.0  "
      ]
     },
     "execution_count": 436,
     "metadata": {},
     "output_type": "execute_result"
    }
   ],
   "source": [
    "print(df_test_cleaned.shape[0])\n",
    "df_test_cleaned.sample()"
   ]
  },
  {
   "cell_type": "code",
   "execution_count": 437,
   "metadata": {},
   "outputs": [],
   "source": [
    "df_test_cleaned['price'] = y_pred # Adding the predicted price\n",
    "df_for_submission = df_test_cleaned[[\"id\", \"price\"]] # Modifying for subnmission"
   ]
  },
  {
   "cell_type": "code",
   "execution_count": 438,
   "metadata": {},
   "outputs": [
    {
     "name": "stdout",
     "output_type": "stream",
     "text": [
      "13485\n"
     ]
    },
    {
     "data": {
      "text/html": [
       "<div>\n",
       "<style scoped>\n",
       "    .dataframe tbody tr th:only-of-type {\n",
       "        vertical-align: middle;\n",
       "    }\n",
       "\n",
       "    .dataframe tbody tr th {\n",
       "        vertical-align: top;\n",
       "    }\n",
       "\n",
       "    .dataframe thead th {\n",
       "        text-align: right;\n",
       "    }\n",
       "</style>\n",
       "<table border=\"1\" class=\"dataframe\">\n",
       "  <thead>\n",
       "    <tr style=\"text-align: right;\">\n",
       "      <th></th>\n",
       "      <th>id</th>\n",
       "      <th>price</th>\n",
       "    </tr>\n",
       "  </thead>\n",
       "  <tbody>\n",
       "    <tr>\n",
       "      <th>45</th>\n",
       "      <td>45</td>\n",
       "      <td>6.572633</td>\n",
       "    </tr>\n",
       "  </tbody>\n",
       "</table>\n",
       "</div>"
      ],
      "text/plain": [
       "    id     price\n",
       "45  45  6.572633"
      ]
     },
     "execution_count": 438,
     "metadata": {},
     "output_type": "execute_result"
    }
   ],
   "source": [
    "print(df_for_submission.shape[0])\n",
    "df_for_submission.sample()"
   ]
  },
  {
   "cell_type": "markdown",
   "metadata": {},
   "source": [
    "# Export (index=False)"
   ]
  },
  {
   "cell_type": "code",
   "execution_count": 439,
   "metadata": {},
   "outputs": [],
   "source": [
    "df_for_submission.to_csv(\"my_submission.csv\", index=False)\n",
    "\n",
    "#  Just for feedback\n",
    "# if platform == \"darwin\":\n",
    "#    os.system(\"say redi for submission\")"
   ]
  },
  {
   "cell_type": "code",
   "execution_count": 440,
   "metadata": {
    "scrolled": true
   },
   "outputs": [
    {
     "data": {
      "text/html": [
       "<div>\n",
       "<style scoped>\n",
       "    .dataframe tbody tr th:only-of-type {\n",
       "        vertical-align: middle;\n",
       "    }\n",
       "\n",
       "    .dataframe tbody tr th {\n",
       "        vertical-align: top;\n",
       "    }\n",
       "\n",
       "    .dataframe thead th {\n",
       "        text-align: right;\n",
       "    }\n",
       "</style>\n",
       "<table border=\"1\" class=\"dataframe\">\n",
       "  <thead>\n",
       "    <tr style=\"text-align: right;\">\n",
       "      <th></th>\n",
       "      <th>id</th>\n",
       "      <th>price</th>\n",
       "    </tr>\n",
       "  </thead>\n",
       "  <tbody>\n",
       "    <tr>\n",
       "      <th>0</th>\n",
       "      <td>0</td>\n",
       "      <td>8.439847</td>\n",
       "    </tr>\n",
       "    <tr>\n",
       "      <th>1</th>\n",
       "      <td>1</td>\n",
       "      <td>7.596678</td>\n",
       "    </tr>\n",
       "    <tr>\n",
       "      <th>2</th>\n",
       "      <td>2</td>\n",
       "      <td>7.042350</td>\n",
       "    </tr>\n",
       "    <tr>\n",
       "      <th>3</th>\n",
       "      <td>3</td>\n",
       "      <td>9.344876</td>\n",
       "    </tr>\n",
       "    <tr>\n",
       "      <th>4</th>\n",
       "      <td>4</td>\n",
       "      <td>7.343860</td>\n",
       "    </tr>\n",
       "  </tbody>\n",
       "</table>\n",
       "</div>"
      ],
      "text/plain": [
       "   id     price\n",
       "0   0  8.439847\n",
       "1   1  7.596678\n",
       "2   2  7.042350\n",
       "3   3  9.344876\n",
       "4   4  7.343860"
      ]
     },
     "execution_count": 440,
     "metadata": {},
     "output_type": "execute_result"
    }
   ],
   "source": [
    "df_for_submission.head()"
   ]
  },
  {
   "cell_type": "code",
   "execution_count": null,
   "metadata": {},
   "outputs": [],
   "source": []
  }
 ],
 "metadata": {
  "kernelspec": {
   "display_name": "ironhack",
   "language": "python",
   "name": "python3"
  },
  "language_info": {
   "codemirror_mode": {
    "name": "ipython",
    "version": 3
   },
   "file_extension": ".py",
   "mimetype": "text/x-python",
   "name": "python",
   "nbconvert_exporter": "python",
   "pygments_lexer": "ipython3",
   "version": "3.11.4"
  },
  "nbTranslate": {
   "displayLangs": [
    "en",
    "es"
   ],
   "hotkey": "alt-a",
   "langInMainMenu": true,
   "sourceLang": "es",
   "targetLang": "en",
   "useGoogleTranslate": true
  },
  "toc": {
   "base_numbering": 1,
   "nav_menu": {},
   "number_sections": true,
   "sideBar": true,
   "skip_h1_title": false,
   "title_cell": "Table of Contents",
   "title_sidebar": "Contents",
   "toc_cell": false,
   "toc_position": {},
   "toc_section_display": true,
   "toc_window_display": false
  }
 },
 "nbformat": 4,
 "nbformat_minor": 2
}
